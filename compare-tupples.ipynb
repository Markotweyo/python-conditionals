{
 "cells": [
  {
   "cell_type": "code",
   "execution_count": 4,
   "metadata": {},
   "outputs": [
    {
     "name": "stdout",
     "output_type": "stream",
     "text": [
      "()\n"
     ]
    }
   ],
   "source": [
    "#Create a tuple \n",
    "my_tuple=()\n",
    "print(my_tuple)"
   ]
  },
  {
   "cell_type": "code",
   "execution_count": 8,
   "metadata": {},
   "outputs": [
    {
     "name": "stdout",
     "output_type": "stream",
     "text": [
      "(1, 2, 3, 4, 5, 6, 7, 8, 'Hello World', True)\n",
      "Hello World\n"
     ]
    }
   ],
   "source": [
    "my_tuple1=(1,2,3,4,5,6,7,8, \"Hello World\", True)\n",
    "print(my_tuple1)\n",
    "print(my_tuple1[8])"
   ]
  },
  {
   "cell_type": "code",
   "execution_count": 20,
   "metadata": {},
   "outputs": [
    {
     "name": "stdout",
     "output_type": "stream",
     "text": [
      "('Python', 'Java', 'JavaScript', 'C#')\n",
      "I know Python\n",
      "I know Java\n",
      "I know JavaScript\n",
      "I know C#\n"
     ]
    }
   ],
   "source": [
    "languages=(\"Python\", \"Java\", \"JavaScript\", \"C#\")\n",
    "comment=\"I know\"\n",
    "print(languages)\n",
    "for language in languages:\n",
    "    print(comment + \" \"+ language)\n",
    "    \n",
    "    \n",
    "    \n"
   ]
  },
  {
   "cell_type": "code",
   "execution_count": 21,
   "metadata": {},
   "outputs": [
    {
     "name": "stdout",
     "output_type": "stream",
     "text": [
      "I know\n",
      "I know C#\n"
     ]
    }
   ],
   "source": [
    "\n",
    "print(comment)\n",
    "print(comment + \" \"+ language)"
   ]
  },
  {
   "cell_type": "code",
   "execution_count": 1,
   "metadata": {},
   "outputs": [
    {
     "name": "stdout",
     "output_type": "stream",
     "text": [
      "(5, 10)\n",
      "True\n"
     ]
    }
   ],
   "source": [
    "x=y=5,10\n",
    "print(x)\n",
    "res=x==y\n",
    "print(res)"
   ]
  },
  {
   "cell_type": "code",
   "execution_count": 25,
   "metadata": {},
   "outputs": [
    {
     "name": "stdout",
     "output_type": "stream",
     "text": [
      "3\n",
      "range(0, 3)\n",
      "apple\n",
      "banana\n",
      "cherry\n"
     ]
    }
   ],
   "source": [
    "thistuple = (\"apple\", \"banana\", \"cherry\")\n",
    "print(len(thistuple))\n",
    "print(range(len(thistuple)))\n",
    "for i in range(len(thistuple)):\n",
    "    print(thistuple[i])"
   ]
  }
 ],
 "metadata": {
  "kernelspec": {
   "display_name": "base",
   "language": "python",
   "name": "python3"
  },
  "language_info": {
   "codemirror_mode": {
    "name": "ipython",
    "version": 3
   },
   "file_extension": ".py",
   "mimetype": "text/x-python",
   "name": "python",
   "nbconvert_exporter": "python",
   "pygments_lexer": "ipython3",
   "version": "3.11.4"
  },
  "orig_nbformat": 4
 },
 "nbformat": 4,
 "nbformat_minor": 2
}
