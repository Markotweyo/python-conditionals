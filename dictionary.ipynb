{
 "cells": [
  {
   "cell_type": "code",
   "execution_count": 12,
   "metadata": {},
   "outputs": [
    {
     "name": "stdout",
     "output_type": "stream",
     "text": [
      "{1: 'Hello', (1, 2): 'Hello Hi'}\n"
     ]
    },
    {
     "data": {
      "text/plain": [
       "'Hello Hi'"
      ]
     },
     "execution_count": 12,
     "metadata": {},
     "output_type": "execute_result"
    }
   ],
   "source": [
    "my_dict = {\n",
    "  1: \"Hello\", \n",
    "  (1, 2): \"Hello Hi\", \n",
    "}\n",
    "\n",
    "print(my_dict)\n",
    "my_dict[1]\n",
    "my_dict[1,2]"
   ]
  },
  {
   "cell_type": "code",
   "execution_count": 16,
   "metadata": {},
   "outputs": [
    {
     "name": "stdout",
     "output_type": "stream",
     "text": [
      "{'United States': 'Washington', 'Canada': 'Quebec', 'United Kingdom': 'London', 'Italy': 'Naples'}\n",
      "{'United States': 'Washington', 'Canada': 'Quebec', 'United Kingdom': 'London', 'Italy': 'Rome'}\n"
     ]
    }
   ],
   "source": [
    "countries_capitals={\"United States\":\"Washington\", \"Canada\":\"Quebec\", \"United Kingdom\":\"London\", \"Italy\":\"Naples\"}\n",
    "print(countries_capitals)\n",
    "countries_capitals[\"Italy\"]=\"Rome\"\n",
    "print(countries_capitals)"
   ]
  }
 ],
 "metadata": {
  "kernelspec": {
   "display_name": "base",
   "language": "python",
   "name": "python3"
  },
  "language_info": {
   "codemirror_mode": {
    "name": "ipython",
    "version": 3
   },
   "file_extension": ".py",
   "mimetype": "text/x-python",
   "name": "python",
   "nbconvert_exporter": "python",
   "pygments_lexer": "ipython3",
   "version": "3.11.4"
  }
 },
 "nbformat": 4,
 "nbformat_minor": 2
}
