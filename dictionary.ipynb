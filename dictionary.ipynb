{
 "cells": [
  {
   "cell_type": "code",
   "execution_count": null,
   "metadata": {},
   "outputs": [],
   "source": [
    "#The keys of dictionary must have immutable data type such as a string, tubles, integer etc.You cant use mutable like lists\n",
    "my_dict = {\n",
    "  1: \"Hello\", \n",
    "  (1, 2): \"Hello Hi\", \n",
    "}\n",
    "#accessing data from dictionary\n",
    "print(my_dict)\n",
    "my_dict[1]\n",
    "my_dict[1,2]"
   ]
  },
  {
   "cell_type": "code",
   "execution_count": 21,
   "metadata": {},
   "outputs": [
    {
     "name": "stdout",
     "output_type": "stream",
     "text": [
      "{'United States': 'Washington DC', 'Canada': 'Quebec', 'United Kingdom': 'London', 'Italy': 'Naples'}\n",
      "{'United States': 'Washington DC', 'Canada': 'Ottawa', 'United Kingdom': 'London', 'Italy': 'Rome'}\n",
      "{'United States': 'Washington DC', 'Canada': 'Ottawa', 'United Kingdom': 'London', 'Italy': 'Rome', 'Germany': 'Berlin'}\n",
      "{'United States': 'Washington DC', 'Canada': 'Ottawa', 'United Kingdom': 'London', 'Italy': 'Rome'}\n",
      "{}\n"
     ]
    }
   ],
   "source": [
    "#create a dictionary and acess items from the dictionary\n",
    "countries_capitals={\"United States\":\"Washington DC\", \"Canada\":\"Quebec\", \"United Kingdom\":\"London\", \"Italy\":\"Naples\"}\n",
    "print(countries_capitals)\n",
    "countries_capitals[\"Italy\"]=\"Rome\"\n",
    "countries_capitals[\"Canada\"]=\"Ottawa\"\n",
    "print(countries_capitals)\n",
    "#Add items to dictionary\n",
    "countries_capitals[\"Germany\"]=\"Berlin\"\n",
    "print(countries_capitals)\n",
    "#Remove items from dictionary\n",
    "del countries_capitals[\"Germany\"]\n",
    "print(countries_capitals)\n",
    "#Clear items from dictionary\n",
    "countries_capitals.clear()\n",
    "print(countries_capitals)"
   ]
  }
 ],
 "metadata": {
  "kernelspec": {
   "display_name": "base",
   "language": "python",
   "name": "python3"
  },
  "language_info": {
   "codemirror_mode": {
    "name": "ipython",
    "version": 3
   },
   "file_extension": ".py",
   "mimetype": "text/x-python",
   "name": "python",
   "nbconvert_exporter": "python",
   "pygments_lexer": "ipython3",
   "version": "3.11.4"
  }
 },
 "nbformat": 4,
 "nbformat_minor": 2
}
