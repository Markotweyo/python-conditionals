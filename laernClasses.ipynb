{
 "cells": [
  {
   "cell_type": "code",
   "execution_count": null,
   "metadata": {},
   "outputs": [],
   "source": [
    "class Employees:\n",
    "    def __init__(self, first_name, last_name,pay):\n",
    "        self.first_name = first_name\n",
    "        self.last_name = last_name\n",
    "        self.email = first_name +\".\"+ last_name + '@gmail.com'\n",
    "        self.pay = pay\n",
    "    \n",
    "    def full_name(self):\n",
    "        return '{} {}'.format(self.first_name, self.last_name)\n",
    "    \n",
    "    def paymentIncrease(self):\n",
    "        return (self.pay*1.04-self.pay)\n",
    "    \n",
    "    def salary(self):\n",
    "        return (self.pay*1.04)\n",
    "\n",
    "emp_1= Employees(\"Mark\", \"Otweyo\", 50000)\n",
    "emp_2= Employees(\"Test\", \"User\", 60000)\n",
    "\n",
    "print(emp_1.first_name, emp_1.email,emp_1.salary())\n",
    "print(emp_2.first_name, emp_2.email,emp_2.salary())\n",
    "print(emp_1.full_name())\n",
    "print(emp_2.full_name())\n",
    "print(emp_1.paymentIncrease())\n",
    "print(emp_2.paymentIncrease())\n",
    "print(Employees.full_name(emp_1))\n",
    "print(Employees.full_name(emp_2))\n",
    "\n"
   ]
  },
  {
   "cell_type": "code",
   "execution_count": null,
   "metadata": {},
   "outputs": [],
   "source": []
  }
 ],
 "metadata": {
  "kernelspec": {
   "display_name": "base",
   "language": "python",
   "name": "python3"
  },
  "language_info": {
   "codemirror_mode": {
    "name": "ipython",
    "version": 3
   },
   "file_extension": ".py",
   "mimetype": "text/x-python",
   "name": "python",
   "nbconvert_exporter": "python",
   "pygments_lexer": "ipython3",
   "version": "3.11.4"
  },
  "orig_nbformat": 4
 },
 "nbformat": 4,
 "nbformat_minor": 2
}
