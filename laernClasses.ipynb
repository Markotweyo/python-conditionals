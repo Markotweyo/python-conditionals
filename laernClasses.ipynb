{
 "cells": [
  {
   "cell_type": "code",
   "execution_count": 45,
   "metadata": {},
   "outputs": [
    {
     "name": "stdout",
     "output_type": "stream",
     "text": [
      "2\n"
     ]
    }
   ],
   "source": [
    "class Employees:\n",
    "    raise_amnt=1.04 # class variable\n",
    "    num_of_employees=0\n",
    "    \n",
    "    def __init__(self, first_name, last_name,pay): #constuctor\n",
    "        self.first_name = first_name #instance variables\n",
    "        self.last_name = last_name\n",
    "        self.email = first_name +\".\"+ last_name + '@gmail.com'\n",
    "        self.pay = pay\n",
    "        \n",
    "        Employees.num_of_employees+=1\n",
    "    \n",
    "    def full_name(self): #class methods\n",
    "        return '{} {}'.format(self.first_name, self.last_name)\n",
    "    \n",
    "    def paymentIncrease(self):\n",
    "        return (self.pay*self.raise_amnt-self.pay)\n",
    "    \n",
    "    def salary(self):\n",
    "        return (self.pay*self.raise_amnt)\n",
    "\n",
    "emp_1= Employees(\"Mark\", \"Otweyo\", 50000)\n",
    "emp_2= Employees(\"Test\", \"User\", 60000)\n",
    "\n",
    "print(Employees.num_of_employees)\n",
    "\n",
    "\n"
   ]
  },
  {
   "cell_type": "code",
   "execution_count": 48,
   "metadata": {},
   "outputs": [],
   "source": [
    "import pandas as pd\n",
    "import numpy as np\n",
    "\n",
    "df=pd.read_csv('pokemon.csv')"
   ]
  }
 ],
 "metadata": {
  "kernelspec": {
   "display_name": "base",
   "language": "python",
   "name": "python3"
  },
  "language_info": {
   "codemirror_mode": {
    "name": "ipython",
    "version": 3
   },
   "file_extension": ".py",
   "mimetype": "text/x-python",
   "name": "python",
   "nbconvert_exporter": "python",
   "pygments_lexer": "ipython3",
   "version": "3.11.4"
  },
  "orig_nbformat": 4
 },
 "nbformat": 4,
 "nbformat_minor": 2
}
