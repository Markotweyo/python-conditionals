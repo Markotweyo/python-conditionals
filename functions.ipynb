{
 "cells": [
  {
   "cell_type": "code",
   "execution_count": 6,
   "metadata": {},
   "outputs": [
    {
     "data": {
      "text/plain": [
       "9"
      ]
     },
     "execution_count": 6,
     "metadata": {},
     "output_type": "execute_result"
    }
   ],
   "source": [
    "#def nameOfFunction(arguments):\n",
    "#    result=x+y function body statement\n",
    "#    return(result) function return ststement\n",
    "#addTwoNumbers(4, 5) Calling the function with arguments\n",
    "\n",
    "def addTwoNumbers(x, y):\n",
    "    result=x+y\n",
    "    return(result)\n",
    "addTwoNumbers(4, 5)"
   ]
  },
  {
   "cell_type": "code",
   "execution_count": 9,
   "metadata": {},
   "outputs": [
    {
     "name": "stdout",
     "output_type": "stream",
     "text": [
      "9\n",
      "Hello World!\n"
     ]
    }
   ],
   "source": [
    "def addTwoNumbers(x, y):\n",
    "    result=x+y\n",
    "    print(result)\n",
    "addTwoNumbers(4, 5)\n",
    "\n",
    "def greet():\n",
    "    print(\"Hello World!\")\n",
    "    \n",
    "greet()"
   ]
  },
  {
   "cell_type": "code",
   "execution_count": 13,
   "metadata": {},
   "outputs": [
    {
     "name": "stdout",
     "output_type": "stream",
     "text": [
      "The square of distance for 1 = 1\n",
      "The square of distance for 2 = 4\n",
      "The square of distance for 3 = 9\n",
      "The square of distance for 4 = 16\n",
      "The square of distance for 5 = 25\n",
      "The square of distance for 6 = 36\n",
      "The square of distance for 7 = 49\n",
      "The square of distance for 8 = 64\n"
     ]
    }
   ],
   "source": [
    "def squared_distance(num):\n",
    "    result=num*num\n",
    "    return(result)\n",
    "squared_distance(2)\n",
    "\n",
    "for i in [1,2, 3, 4, 5, 6, 7, 8]:\n",
    "    inputed_distance=squared_distance(i)\n",
    "    print(\"The square of distance for\", i,\"=\", inputed_distance)\n",
    "    "
   ]
  }
 ],
 "metadata": {
  "kernelspec": {
   "display_name": "base",
   "language": "python",
   "name": "python3"
  },
  "language_info": {
   "codemirror_mode": {
    "name": "ipython",
    "version": 3
   },
   "file_extension": ".py",
   "mimetype": "text/x-python",
   "name": "python",
   "nbconvert_exporter": "python",
   "pygments_lexer": "ipython3",
   "version": "3.11.4"
  }
 },
 "nbformat": 4,
 "nbformat_minor": 2
}
